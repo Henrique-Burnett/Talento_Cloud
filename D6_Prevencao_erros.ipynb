{
  "nbformat": 4,
  "nbformat_minor": 0,
  "metadata": {
    "colab": {
      "provenance": [],
      "authorship_tag": "ABX9TyMXLATk/RyTGA5MdaQ0hjj0",
      "include_colab_link": true
    },
    "kernelspec": {
      "name": "python3",
      "display_name": "Python 3"
    },
    "language_info": {
      "name": "python"
    }
  },
  "cells": [
    {
      "cell_type": "markdown",
      "metadata": {
        "id": "view-in-github",
        "colab_type": "text"
      },
      "source": [
        "<a href=\"https://colab.research.google.com/github/Henrique-Burnett/Talento_Cloud/blob/main/D6_Prevencao_erros.ipynb\" target=\"_parent\"><img src=\"https://colab.research.google.com/assets/colab-badge.svg\" alt=\"Open In Colab\"/></a>"
      ]
    },
    {
      "cell_type": "markdown",
      "source": [
        "#Instruções do projeto\n",
        "\n",
        "Desenvolva um programa que recebe do usuário nome completo e ano de nascimento que seja entre 1922 e 2021.\n",
        "A partir dessas informações, o sistema mostrará o nome do usuário e a idade que completou, ou completará, no ano atual (2023).\n",
        "\n",
        "Caso o usuário não digite um número ou apareça um inválido no campo do ano, o sistema informará o erro e continuará perguntando até que um valor correto seja preenchido.\n",
        "\n",
        "Trabalhe esse código em seu IDE, suba ele para sua conta no GitHub e compartilhe o link desse projeto no campo ao lado para que outros desenvolvedores possam analisá-lo."
      ],
      "metadata": {
        "id": "NMP5nk2nWWoQ"
      }
    },
    {
      "cell_type": "code",
      "execution_count": 1,
      "metadata": {
        "colab": {
          "base_uri": "https://localhost:8080/"
        },
        "id": "YkR18L7CWUZp",
        "outputId": "ae3b14d8-2bd1-4178-84c0-7a7f58a606a4"
      },
      "outputs": [
        {
          "output_type": "stream",
          "name": "stdout",
          "text": [
            "Qual o nome do usuário? rick\n",
            "Em qual ano o usuário nasceu?\n",
            "1992\n",
            "O usuário rick completou ou ainda vai completar 31 anos de idade em 2023\n"
          ]
        }
      ],
      "source": [
        "nome = input(\"Qual o nome do usuário? \")\n",
        "\n",
        "play = True\n",
        "\n",
        "while(play == True):\n",
        "  print(\"Em qual ano o usuário nasceu?\")\n",
        "  try:\n",
        "    anoNascimento = int(input())\n",
        "    if(anoNascimento < 1922) or (anoNascimento > 2021):\n",
        "      print(\"O ano deve estar entre 1922 e 2021\")\n",
        "    else:\n",
        "      idade = 2023 - anoNascimento\n",
        "      print(\"O usuário\", nome, \"completou ou ainda vai completar\", idade, \"anos de idade em 2023\")\n",
        "      play = False\n",
        "  except:\n",
        "    print(\"Escreva o ano de nascimento no formato AAAA, por exemplo: 2006.\")\n"
      ]
    }
  ]
}