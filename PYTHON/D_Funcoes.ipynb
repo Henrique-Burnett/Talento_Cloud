{
  "nbformat": 4,
  "nbformat_minor": 0,
  "metadata": {
    "colab": {
      "provenance": [],
      "authorship_tag": "ABX9TyMwPcknLDqeIYWtvTwVYrJg",
      "include_colab_link": true
    },
    "kernelspec": {
      "name": "python3",
      "display_name": "Python 3"
    },
    "language_info": {
      "name": "python"
    }
  },
  "cells": [
    {
      "cell_type": "markdown",
      "metadata": {
        "id": "view-in-github",
        "colab_type": "text"
      },
      "source": [
        "<a href=\"https://colab.research.google.com/github/Henrique-Burnett/Talento_Cloud/blob/main/D_Funcoes.ipynb\" target=\"_parent\"><img src=\"https://colab.research.google.com/assets/colab-badge.svg\" alt=\"Open In Colab\"/></a>"
      ]
    },
    {
      "cell_type": "code",
      "execution_count": 18,
      "metadata": {
        "colab": {
          "base_uri": "https://localhost:8080/"
        },
        "id": "Bv3xWEzv0Lz7",
        "outputId": "a9653f86-a626-4ae3-d38c-57fc1fd985be"
      },
      "outputs": [
        {
          "output_type": "stream",
          "name": "stdout",
          "text": [
            "4\n"
          ]
        }
      ],
      "source": [
        "def calculadora (num1, operacao, num2):\n",
        "  if (operacao == \"+\"):\n",
        "    return num1 + num2\n",
        "  elif (operacao == \"-\"):\n",
        "    return num1 - num2\n",
        "  elif (operacao == \"*\"):\n",
        "    return num1 * num2\n",
        "  elif (operacao == \"/\"):\n",
        "    return num1 / num2\n",
        "  else:\n",
        "    return 0\n",
        "\n",
        "\n",
        "print(calculadora(1,\"+\",3))"
      ]
    }
  ]
}